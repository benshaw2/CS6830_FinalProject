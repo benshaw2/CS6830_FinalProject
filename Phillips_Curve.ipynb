{
 "cells": [
  {
   "cell_type": "code",
   "execution_count": null,
   "id": "a468494e",
   "metadata": {},
   "outputs": [],
   "source": [
    "import numpy as np\n",
    "import pandas as pd\n",
    "import matplotlib.pyplot as plt\n",
    "import random\n",
    "import math"
   ]
  },
  {
   "cell_type": "markdown",
   "id": "02901075",
   "metadata": {},
   "source": [
    "## Here are our functions \"from the math.\""
   ]
  },
  {
   "cell_type": "code",
   "execution_count": null,
   "id": "58867faf",
   "metadata": {},
   "outputs": [],
   "source": [
    "# we're assuming a form of a/sqrt(x) + b/(x**2) + c\n",
    "# We're applying the following constraint: a**2+b**2=1: the unit circle. c is free.\n",
    "# Loss function: mean square error.\n",
    "# new coordinates: a=cos(alpha), b=sin(alpha), c=beta."
   ]
  },
  {
   "cell_type": "code",
   "execution_count": null,
   "id": "d059944c",
   "metadata": {},
   "outputs": [],
   "source": [
    "def MSELoss(p,X,y): # This is the 1-dimensional MSE loss in the original coordinates.\n",
    "    N = len(y)\n",
    "    term = 1/N*sum([(y[i]-p[0]/np.sqrt(X[i])-p[1]/(X[i]**2) - p[2])**2 for i in range(N)])\n",
    "    return term"
   ]
  },
  {
   "cell_type": "code",
   "execution_count": null,
   "id": "6966da27",
   "metadata": {},
   "outputs": [],
   "source": [
    "def myGrad2(p,X,y): # This assumes that the original loss function is the MSE.\n",
    "    N = len(y)\n",
    "    alpha = p[0]\n",
    "    beta = p[1]\n",
    "    s1 = sum([ ((1-2*(np.cos(alpha))**2)*X[i]**(3/2) + np.sin(alpha)*(beta-y[i])*X[i]**(7/2) \n",
    "                - np.cos(alpha)*((1-X[i]**3)*np.sin(alpha) + X[i]**2*(beta-y[i])))/(X[i]**4)\n",
    "        for i in range(N)]) # diff wrt alpha.\n",
    "    s2 = sum([ ((beta-y[i])*X[i]**(5/2) + np.cos(alpha)*X[i]**2 + np.sin(alpha)*np.sqrt(X[i])) / (X[i]**(5/2)) \n",
    "              for i in range(N)]) # diff wrt beta\n",
    "    v1 = -2*s1\n",
    "    v2 = 2*s2\n",
    "    ans = np.array([v1/N,v2/N])\n",
    "    return ans # the components of the gradient of the MSE in our coordinates."
   ]
  },
  {
   "cell_type": "code",
   "execution_count": null,
   "id": "0dfc842c",
   "metadata": {},
   "outputs": [],
   "source": [
    "def myUpdate2(p,v):\n",
    "    \n",
    "    def alphaMove(p2,v2,t):\n",
    "        c3 = (-v2)\n",
    "        c4 = p2\n",
    "        return c3*t + c4\n",
    "    \n",
    "    def betaMove(p1,v1,t):\n",
    "        c1 = (-v1)\n",
    "        c2 = p1\n",
    "        return c1*t+c2\n",
    "    \n",
    "    ans = np.array([alphaMove(p[0],v[0],1.0), betaMove(p[1],v[1],1.0)])\n",
    "    return ans"
   ]
  },
  {
   "cell_type": "code",
   "execution_count": null,
   "id": "578da7d6",
   "metadata": {},
   "outputs": [],
   "source": [
    "def gradUpdate2(p,X,y,eta):\n",
    "    \n",
    "    gradP = myGrad2(p,X,y)\n",
    "    #print(gradP)\n",
    "    gradPlr = eta*gradP\n",
    "    #print(gradPlr)\n",
    "    newP = myUpdate2(p,gradPlr)\n",
    "    return newP"
   ]
  },
  {
   "cell_type": "markdown",
   "id": "dafa5387",
   "metadata": {},
   "source": [
    "## Here is our generic SGD algorithm"
   ]
  },
  {
   "cell_type": "code",
   "execution_count": null,
   "id": "b3ade452",
   "metadata": {},
   "outputs": [],
   "source": [
    "\"\"\"\n",
    "X - X data points\n",
    "y - y data points\n",
    "pt - Initial point to start at\n",
    "Update - Update function to get a new point\n",
    "epochs - Number of iterations to narrow down the best point\n",
    "batchsize - The size of the sliced dataset to use in the update function\n",
    "lr - The learning rate\n",
    "\"\"\"\n",
    "def SGD(X, y, pt, Update, epochs, batchsize=64, lr=0.01):\n",
    "\tpts = [pt]\n",
    "\txBatch = X\n",
    "\tyBatch = y\n",
    "\tfor _ in range(epochs):\n",
    "\t\tif len(X) > batchsize:\n",
    "\t\t\t# We want to get a random list of integers to get a batch\n",
    "\t\t\txBatch = []\n",
    "\t\t\tyBatch = []\n",
    "\t\t\trandList = random.sample(range(0, len(X)), batchsize)\n",
    "\t\t\tfor index in randList:\n",
    "\t\t\t\txBatch.append(X[index])\n",
    "\t\t\t\tyBatch.append(y[index])\n",
    "\t\t# Call passed in function TODO: Only will work with gradupdate1, need a way to have it work with multiple.\n",
    "\t\tpt = Update(pt,xBatch,yBatch,lr)\n",
    "\t\tfor num in pt:\n",
    "\t\t\tif math.isnan(num):\n",
    "\t\t\t\tprint(\"Sorry, unable to get an updated point. Please change learning rate and/or starting point.\")\n",
    "\t\t\t\tlastPoint = pts[len(pts)-1]\n",
    "\t\t\t\tprint(f\"Returning the last succesful point: {lastPoint}\")\n",
    "\t\t\t\treturn lastPoint\n",
    "\t\tpts.extend([pt]) # Track the path in the original coordinates.\n",
    "\treturn pts"
   ]
  },
  {
   "cell_type": "markdown",
   "id": "ee38194e",
   "metadata": {},
   "source": [
    "## Validate our math formulas on a dummy dataset"
   ]
  },
  {
   "cell_type": "code",
   "execution_count": null,
   "id": "031eecc0",
   "metadata": {},
   "outputs": [],
   "source": [
    "Xtest = np.linspace(1,11,100)\n",
    "ytest = [1/np.sqrt(x)+1 for x in Xtest] # So the model is y= 1/sqrt(x) + 0/x**2+1."
   ]
  },
  {
   "cell_type": "code",
   "execution_count": null,
   "id": "81dd637e",
   "metadata": {},
   "outputs": [],
   "source": [
    "pt = [(np.pi)/4,0] # Initialize (new coordinates). This is (exp(2)+1, 0) in the original coordinates.\n",
    "epochs = 500 # How long to train for?\n",
    "myeta = 0.1 # Careful with the learning rate: if it's too big, you can run into a \"bad point!\"\n",
    "pts = SGD(Xtest, ytest, pt, gradUpdate2, epochs, lr=myeta)\n",
    "    \n",
    "opts = np.array([np.array([np.cos(p[0]),np.sin(p[0]),p[1]]) for p in pts])"
   ]
  },
  {
   "cell_type": "code",
   "execution_count": null,
   "id": "0f6d58cd",
   "metadata": {},
   "outputs": [],
   "source": [
    "print(\"Starting point in (alpha, beta) coordinates:\")\n",
    "print(pts[0])\n",
    "print(\"Ending point in (alpha, beta) coordinates:\")\n",
    "print(pts[-1])\n",
    "print(\"starting point in (a,b,c) coordinates:\")\n",
    "print(opts[0])\n",
    "print(\"Ending points in (a,b,c) coordinates (goal of (1,0,1)):\")\n",
    "print(opts[-1])"
   ]
  },
  {
   "cell_type": "code",
   "execution_count": null,
   "id": "08a5494f",
   "metadata": {},
   "outputs": [],
   "source": [
    "# Plot the movement of the alpha coordinate along the unit circle (nothing too interesting in beta: goes to 1).\n",
    "myX = list(np.linspace(0,1,100))\n",
    "myY = [np.sqrt(1-x**2) for x in myX]\n",
    "plt.scatter(opts.transpose()[0], opts.transpose()[1], c=[i for i in range(len(opts.transpose()[0]))], cmap='jet')\n",
    "plt.plot(myX,myY)\n",
    "plt.show()"
   ]
  },
  {
   "cell_type": "code",
   "execution_count": null,
   "id": "acc0a8ca",
   "metadata": {},
   "outputs": [],
   "source": [
    "losses = [MSELoss(p,Xtest,ytest) for p in opts]"
   ]
  },
  {
   "cell_type": "code",
   "execution_count": null,
   "id": "18a13bd0",
   "metadata": {},
   "outputs": [],
   "source": [
    "# Watch the loss for the first few iterations drop.\n",
    "plt.plot(losses[0:10])"
   ]
  },
  {
   "cell_type": "code",
   "execution_count": null,
   "id": "f9e2f556",
   "metadata": {},
   "outputs": [],
   "source": [
    "# The loss continues to drop.\n",
    "plt.plot(losses[10:])"
   ]
  },
  {
   "cell_type": "code",
   "execution_count": null,
   "id": "427cf579",
   "metadata": {},
   "outputs": [],
   "source": [
    "# Bottom line: here is our approximate solution:\n",
    "print(opts[-1])"
   ]
  },
  {
   "cell_type": "markdown",
   "id": "02cbf31a",
   "metadata": {},
   "source": [
    "## Now fit our curve to real data"
   ]
  },
  {
   "cell_type": "code",
   "execution_count": null,
   "id": "ec30f9e2",
   "metadata": {},
   "outputs": [],
   "source": []
  }
 ],
 "metadata": {
  "kernelspec": {
   "display_name": "Python 3",
   "language": "python",
   "name": "python3"
  },
  "language_info": {
   "codemirror_mode": {
    "name": "ipython",
    "version": 3
   },
   "file_extension": ".py",
   "mimetype": "text/x-python",
   "name": "python",
   "nbconvert_exporter": "python",
   "pygments_lexer": "ipython3",
   "version": "3.10.1"
  }
 },
 "nbformat": 4,
 "nbformat_minor": 5
}
